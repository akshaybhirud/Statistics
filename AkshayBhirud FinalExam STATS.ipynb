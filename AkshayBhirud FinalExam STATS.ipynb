{
 "cells": [
  {
   "cell_type": "code",
   "execution_count": null,
   "metadata": {
    "collapsed": true
   },
   "outputs": [],
   "source": [
    "1.\tA bank claims that average waiting time at its ATM is 15 minutes. define null and alternate hypotheses are.\n",
    "ans: let mean is u=15min H0: u=15 null hypothesis Ha: u!=15 alternate hypothesis we check if null hypothesis is true or \n",
    "            false by rejecting or failure to rejecting, where alternate hypothesis is exactly opposite to null hypothesis."
   ]
  },
  {
   "cell_type": "code",
   "execution_count": null,
   "metadata": {
    "collapsed": true
   },
   "outputs": [],
   "source": [
    "2.\tWhat is sampling ?  what is a population and explain in a diagrammatic way how sample, Population and EDA  is related\n",
    "ans: sampling is random small proportion of data set of population which contains all possible attributes of population data\n",
    "    set.\n",
    "    population is whole data set of particular event.\n",
    "    Population, sample and EDA are like same branch of tree when you want to gain insights from data. Since population is\n",
    "    very large data set, its hard to perform statistics on it so we take a sample from population and perform explonatory\n",
    "    data analysis on it. EDA is nothing but exploring data to gain insights from it. "
   ]
  },
  {
   "cell_type": "code",
   "execution_count": null,
   "metadata": {
    "collapsed": true
   },
   "outputs": [],
   "source": [
    "3.\tWhat is the approximate  z value for a 95% confidence Interval ?\n",
    "ans: Z = 1.96"
   ]
  },
  {
   "cell_type": "code",
   "execution_count": null,
   "metadata": {
    "collapsed": true
   },
   "outputs": [],
   "source": [
    "1.\tIn a survey 200 males in USA work average 15.7 hrs/week. Marginal error is 2.2 hrs at a confidence level of 95%. \n",
    "Find the confidence interval ?\n",
    "ans:"
   ]
  },
  {
   "cell_type": "code",
   "execution_count": 2,
   "metadata": {},
   "outputs": [
    {
     "name": "stdout",
     "output_type": "stream",
     "text": [
      "lower interval: 15.3951011586 \n",
      " upper interval: 16.0048988414\n"
     ]
    }
   ],
   "source": [
    "import numpy as np\n",
    "import  scipy.stats                     as  stats\n",
    "n=200\n",
    "Xavg=15.7\n",
    "ci=0.95\n",
    "sigma=2.2\n",
    "s  = sigma / np.sqrt(n)\n",
    "lci, uci = stats.norm.interval(ci, loc = Xavg, scale = s)\n",
    "print('lower interval:',lci,'\\n upper interval:',uci)"
   ]
  },
  {
   "cell_type": "code",
   "execution_count": null,
   "metadata": {
    "collapsed": true
   },
   "outputs": [],
   "source": [
    "2.\tA firm receives parts from two different suppliers. Currently supplier A1 supplies 65% of requirement and remaining 35% \n",
    "is supplied by supplier A2. 98% of parts supplied by A1 are good and 2% are defective and 95% of parts supplied by A2 are \n",
    "good and 5% are defective.\n",
    "One of the machines that the firm uses broke down because it processed a bad part. The production manager wants find out \n",
    "who could have supplied the bad part. The question is\n",
    "What is the probability P(A1|B) that the bad part was supplied by A1\n",
    " \n",
    "ans:P(B/A1)=  0.02\n",
    "P(A1)=  0.65 \n",
    "P(B)=  0.65 * 0.02 + 0.35 * 0.05\n",
    "P(A1/B) = P(B/A1)*P(A1)/P(B) =0.4262"
   ]
  },
  {
   "cell_type": "code",
   "execution_count": null,
   "metadata": {
    "collapsed": true
   },
   "outputs": [],
   "source": [
    "3.\tA super market has a chain of 5 stores. The General Manager is seriously concerned about quality of service at each\n",
    "stores. He conducted a survey on customer perceived quality on each day of the week.\n",
    "\n",
    " \n",
    "Decision:\n",
    "Is there a significant quality difference among the stores? Use the right approach solve it give the steps and give \n",
    "inference with proven methods and steps\n"
   ]
  },
  {
   "cell_type": "code",
   "execution_count": null,
   "metadata": {
    "collapsed": true
   },
   "outputs": [],
   "source": [
    "4.\tDeck of cards has 52 cards and we draw 2 kings from the deck. What is probability or chance of getting 2 kings \n",
    "consecutively \n",
    "\n",
    "ans: P = (4/52)*(3/51) = 1/221"
   ]
  },
  {
   "cell_type": "code",
   "execution_count": null,
   "metadata": {
    "collapsed": true
   },
   "outputs": [],
   "source": [
    "Section C : 7 marks question ,  1 * 7 = 7 marks\n",
    "A consumer forum suspects that 300 gm pack of Narasu’s Coffee, is underweight.  The forum wants to check this by collecting \n",
    "a sample and using a 0.05 level of significance. Sample size is 36 and sigma 18.01904\n"
   ]
  },
  {
   "cell_type": "code",
   "execution_count": null,
   "metadata": {
    "collapsed": true
   },
   "outputs": [],
   "source": [
    "1.\tDefine Null hypothesis and Acceptance hypothesis\n",
    "ans: Null hypothesis: H0: μ >= 300\n",
    "Alternative hypothesis: HA: μ < 300"
   ]
  },
  {
   "cell_type": "code",
   "execution_count": null,
   "metadata": {},
   "outputs": [],
   "source": [
    "2.\tBased on the Hypothesis, write what tail test it is and draw the symmetric curve\n",
    "ans: one tailed test"
   ]
  },
  {
   "cell_type": "code",
   "execution_count": null,
   "metadata": {
    "collapsed": true
   },
   "outputs": [],
   "source": [
    "3.\tFor the given sample mean x bar is 297, Calculate  Z critical "
   ]
  },
  {
   "cell_type": "code",
   "execution_count": 5,
   "metadata": {},
   "outputs": [
    {
     "name": "stdout",
     "output_type": "stream",
     "text": [
      "Value of Z is -0.99894\n"
     ]
    }
   ],
   "source": [
    "XAvg  = 297\n",
    "mu    = 300\n",
    "sigma = 18.01904\n",
    "n     = 36\n",
    "Z = (XAvg - mu)/(sigma/np.sqrt(n))\n",
    "print('Value of Z is %2.5f' %Z)"
   ]
  },
  {
   "cell_type": "code",
   "execution_count": null,
   "metadata": {
    "collapsed": true
   },
   "outputs": [],
   "source": [
    "4.\tFind the pvalue for the given confidence level\n",
    "\n",
    "ans:"
   ]
  },
  {
   "cell_type": "code",
   "execution_count": 8,
   "metadata": {},
   "outputs": [
    {
     "data": {
      "text/plain": [
       "0.84108893018292274"
      ]
     },
     "execution_count": 8,
     "metadata": {},
     "output_type": "execute_result"
    }
   ],
   "source": [
    "P = 1- stats.norm.cdf(Z)\n",
    "P"
   ]
  },
  {
   "cell_type": "code",
   "execution_count": null,
   "metadata": {
    "collapsed": true
   },
   "outputs": [],
   "source": [
    "5.\tWrite Inference based on the output\n",
    "ans: In this example, Z = -0.99894 lies in the acceptance region because, -1.96 < Z = -0.99894 < 1.96.\n",
    "So the statistical decision is not to reject the null hypothesis. "
   ]
  },
  {
   "cell_type": "code",
   "execution_count": null,
   "metadata": {},
   "outputs": [],
   "source": []
  },
  {
   "cell_type": "code",
   "execution_count": null,
   "metadata": {},
   "outputs": [],
   "source": []
  },
  {
   "cell_type": "code",
   "execution_count": null,
   "metadata": {
    "collapsed": true
   },
   "outputs": [],
   "source": []
  },
  {
   "cell_type": "code",
   "execution_count": null,
   "metadata": {
    "collapsed": true
   },
   "outputs": [],
   "source": []
  },
  {
   "cell_type": "code",
   "execution_count": null,
   "metadata": {
    "collapsed": true
   },
   "outputs": [],
   "source": []
  },
  {
   "cell_type": "code",
   "execution_count": null,
   "metadata": {
    "collapsed": true
   },
   "outputs": [],
   "source": []
  },
  {
   "cell_type": "code",
   "execution_count": null,
   "metadata": {
    "collapsed": true
   },
   "outputs": [],
   "source": []
  },
  {
   "cell_type": "code",
   "execution_count": null,
   "metadata": {
    "collapsed": true
   },
   "outputs": [],
   "source": []
  },
  {
   "cell_type": "code",
   "execution_count": null,
   "metadata": {
    "collapsed": true
   },
   "outputs": [],
   "source": []
  },
  {
   "cell_type": "code",
   "execution_count": null,
   "metadata": {
    "collapsed": true
   },
   "outputs": [],
   "source": []
  },
  {
   "cell_type": "code",
   "execution_count": null,
   "metadata": {
    "collapsed": true
   },
   "outputs": [],
   "source": []
  },
  {
   "cell_type": "code",
   "execution_count": null,
   "metadata": {
    "collapsed": true
   },
   "outputs": [],
   "source": []
  },
  {
   "cell_type": "code",
   "execution_count": null,
   "metadata": {
    "collapsed": true
   },
   "outputs": [],
   "source": []
  },
  {
   "cell_type": "code",
   "execution_count": null,
   "metadata": {
    "collapsed": true
   },
   "outputs": [],
   "source": []
  },
  {
   "cell_type": "code",
   "execution_count": null,
   "metadata": {
    "collapsed": true
   },
   "outputs": [],
   "source": []
  },
  {
   "cell_type": "code",
   "execution_count": null,
   "metadata": {
    "collapsed": true
   },
   "outputs": [],
   "source": []
  },
  {
   "cell_type": "code",
   "execution_count": null,
   "metadata": {
    "collapsed": true
   },
   "outputs": [],
   "source": []
  },
  {
   "cell_type": "code",
   "execution_count": null,
   "metadata": {
    "collapsed": true
   },
   "outputs": [],
   "source": []
  },
  {
   "cell_type": "code",
   "execution_count": null,
   "metadata": {
    "collapsed": true
   },
   "outputs": [],
   "source": []
  }
 ],
 "metadata": {
  "kernelspec": {
   "display_name": "Python 3",
   "language": "python",
   "name": "python3"
  },
  "language_info": {
   "codemirror_mode": {
    "name": "ipython",
    "version": 3
   },
   "file_extension": ".py",
   "mimetype": "text/x-python",
   "name": "python",
   "nbconvert_exporter": "python",
   "pygments_lexer": "ipython3",
   "version": "3.6.1"
  }
 },
 "nbformat": 4,
 "nbformat_minor": 2
}
